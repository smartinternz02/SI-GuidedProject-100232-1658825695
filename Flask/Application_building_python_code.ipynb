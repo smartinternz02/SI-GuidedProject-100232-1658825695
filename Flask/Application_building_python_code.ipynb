{
 "cells": [
  {
   "cell_type": "code",
   "execution_count": 1,
   "metadata": {},
   "outputs": [],
   "source": [
    "import requests \n",
    "from tensorflow.keras.preprocessing import image\n",
    "import numpy as np\n",
    "import pandas as pd\n",
    "import tensorflow as tf\n",
    "from flask import Flask, request, render_template, redirect, url_for\n",
    "import os\n",
    "from werkzeug.utils import secure_filename\n",
    "from tensorflow.python.keras.backend import set_session\n",
    "from tensorflow.keras.models import load_model\n",
    "app = Flask(__name__, template_folder='template')\n",
    "model_fruit = load_model(\"fruit.h5\")\n",
    "model_veg = load_model(\"Vegetable.h5\")\n",
    "\n",
    "\n",
    "app = Flask(__name__)\n",
    "@app.route('/')\n",
    "def home ():\n",
    "    return render_template('home.html')\n",
    "\n",
    "@app.route('/prediction')\n",
    "def prediction():\n",
    "    return render_template('predict.html')\n",
    "\n",
    "@app.route('/predict',methods=['POST'])\n",
    "def predict():\n",
    "    if request.method == 'POST':\n",
    "        f = request.files['image']\n",
    "        basepath = os.path.dirname(__file__)\n",
    "        file_path = os.path.join(basepath,'uploads',secure_filename(f.filename))\n",
    "        f.save(file_path)\n",
    "        print(\"File_path\", f)\n",
    "        img = image.load_img(file_path,target_size=(128,128))\n",
    "        x = image.img_to_array(img)\n",
    "        x = np.expand_dims(x,axis=0)\n",
    "        plant=request.form['plant']\n",
    "        print(plant)\n",
    "        if (plant==\"vegetable\"):\n",
    "            preds = model_fruit.predict_classes(x)\n",
    "            print(preds)\n",
    "            df=pd.read_excel('precautions - veg.xlsx')\n",
    "            print(df.iloc[preds[0]]['caution'])\n",
    "        else:\n",
    "            preds = model_veg.predict_classes(x)\n",
    "            df=pd.read_excel('precaution - fruits.xlsx')\n",
    "            print(df.iloc[preds[0]]['caution'])\n",
    "        return df.iloc[preds[0]]['caution']\n",
    "\n",
    "    \n",
    "if __name__==\"__main__\":\n",
    "    app.run(debug=False)"
   ]
  },
  {
   "cell_type": "code",
   "execution_count": 8,
   "metadata": {},
   "outputs": [],
   "source": []
  },
  {
   "cell_type": "code",
   "execution_count": 4,
   "metadata": {},
   "outputs": [],
   "source": [
    "app = Flask(__name__)\n",
    "@app.route('/')\n",
    "def home ():\n",
    "  return render_template('home.html')\n",
    "\n",
    "@app.route('/prediction')\n",
    "def prediction():\n",
    "  return render_template('predict.html')"
   ]
  },
  {
   "cell_type": "code",
   "execution_count": 13,
   "metadata": {},
   "outputs": [
    {
     "ename": "NameError",
     "evalue": "name '__file__' is not defined",
     "output_type": "error",
     "traceback": [
      "\u001b[1;31m---------------------------------------------------------------------------\u001b[0m",
      "\u001b[1;31mNameError\u001b[0m                                 Traceback (most recent call last)",
      "\u001b[1;32m<ipython-input-13-fa0843705668>\u001b[0m in \u001b[0;36m<module>\u001b[1;34m\u001b[0m\n\u001b[1;32m----> 1\u001b[1;33m \u001b[0mos\u001b[0m\u001b[1;33m.\u001b[0m\u001b[0mpath\u001b[0m\u001b[1;33m.\u001b[0m\u001b[0mdirname\u001b[0m\u001b[1;33m(\u001b[0m\u001b[0m__file__\u001b[0m\u001b[1;33m)\u001b[0m\u001b[1;33m\u001b[0m\u001b[1;33m\u001b[0m\u001b[0m\n\u001b[0m\u001b[0;32m      2\u001b[0m \u001b[1;31m#print(\"name\", name)\u001b[0m\u001b[1;33m\u001b[0m\u001b[1;33m\u001b[0m\u001b[1;33m\u001b[0m\u001b[0m\n",
      "\u001b[1;31mNameError\u001b[0m: name '__file__' is not defined"
     ]
    }
   ],
   "source": [
    "\n",
    "os.path.dirname(__file__)\n",
    "#print(\"name\", name)"
   ]
  },
  {
   "cell_type": "code",
   "execution_count": 5,
   "metadata": {},
   "outputs": [],
   "source": [
    "@app.route('/predict',methods=['POST'])\n",
    "def predict():\n",
    "    if request.method == 'POST':\n",
    "        f = request.files['image']\n",
    "        basepath = os.path.dirname(__file__)\n",
    "        file_path = os.path.join(basepath,'uploads',secure_filename(f.filename))\n",
    "        f.save(file_path)\n",
    "        print(\"File_path\", f)\n",
    "        img = image.load_img(file_path,target_size=(128,128))\n",
    "        x = image.img_to_array(img)\n",
    "        x = np.expand_dims(x,axis=0)\n",
    "        plant=request.form['plant']\n",
    "        print(plant)\n",
    "        if (plant==\"vegetable\"):\n",
    "            preds = model_fruit.predict_classes(x)\n",
    "            print(preds)\n",
    "            df=pd.read_excel('precautions - veg.xlsx')\n",
    "            print(df.iloc[preds[0]]['caution'])\n",
    "        else:\n",
    "            preds = model_veg.predict_classes(x)\n",
    "            df=pd.read_excel('precaution - fruits.xlsx')\n",
    "            print(df.iloc[preds[0]]['caution'])\n",
    "        return df.iloc[preds[0]]['caution']\n"
   ]
  },
  {
   "cell_type": "code",
   "execution_count": 6,
   "metadata": {},
   "outputs": [
    {
     "name": "stdout",
     "output_type": "stream",
     "text": [
      " * Serving Flask app \"__main__\" (lazy loading)\n",
      " * Environment: production\n",
      "   WARNING: This is a development server. Do not use it in a production deployment.\n",
      "   Use a production WSGI server instead.\n",
      " * Debug mode: off\n"
     ]
    },
    {
     "name": "stderr",
     "output_type": "stream",
     "text": [
      " * Running on http://127.0.0.1:5000/ (Press CTRL+C to quit)\n",
      "127.0.0.1 - - [07/Aug/2022 22:35:35] \"\u001b[37mGET / HTTP/1.1\u001b[0m\" 200 -\n",
      "127.0.0.1 - - [07/Aug/2022 22:35:35] \"\u001b[33mGET /static/css/style.css HTTP/1.1\u001b[0m\" 404 -\n",
      "127.0.0.1 - - [07/Aug/2022 22:35:35] \"\u001b[33mGET /static/css/style.css HTTP/1.1\u001b[0m\" 404 -\n",
      "127.0.0.1 - - [07/Aug/2022 22:35:35] \"\u001b[37mGET /static/images/12456.png HTTP/1.1\u001b[0m\" 200 -\n",
      "127.0.0.1 - - [07/Aug/2022 22:35:40] \"\u001b[37mGET /prediction HTTP/1.1\u001b[0m\" 200 -\n",
      "127.0.0.1 - - [07/Aug/2022 22:35:40] \"\u001b[37mGET /static/css/final.css HTTP/1.1\u001b[0m\" 200 -\n",
      "127.0.0.1 - - [07/Aug/2022 22:35:40] \"\u001b[37mGET /static/js/main.js HTTP/1.1\u001b[0m\" 200 -\n",
      "127.0.0.1 - - [07/Aug/2022 22:36:02] \"\u001b[37mGET /static/images/789.jpg HTTP/1.1\u001b[0m\" 200 -\n",
      "[2022-08-07 22:38:03,304] ERROR in app: Exception on /predict [POST]\n",
      "Traceback (most recent call last):\n",
      "  File \"E:\\Anaconda\\lib\\site-packages\\flask\\app.py\", line 2447, in wsgi_app\n",
      "    response = self.full_dispatch_request()\n",
      "  File \"E:\\Anaconda\\lib\\site-packages\\flask\\app.py\", line 1952, in full_dispatch_request\n",
      "    rv = self.handle_user_exception(e)\n",
      "  File \"E:\\Anaconda\\lib\\site-packages\\flask\\app.py\", line 1821, in handle_user_exception\n",
      "    reraise(exc_type, exc_value, tb)\n",
      "  File \"E:\\Anaconda\\lib\\site-packages\\flask\\_compat.py\", line 39, in reraise\n",
      "    raise value\n",
      "  File \"E:\\Anaconda\\lib\\site-packages\\flask\\app.py\", line 1950, in full_dispatch_request\n",
      "    rv = self.dispatch_request()\n",
      "  File \"E:\\Anaconda\\lib\\site-packages\\flask\\app.py\", line 1936, in dispatch_request\n",
      "    return self.view_functions[rule.endpoint](**req.view_args)\n",
      "  File \"<ipython-input-5-b432d738983f>\", line 5, in predict\n",
      "    basepath = os.path.dirname(__file__)\n",
      "NameError: name '__file__' is not defined\n",
      "127.0.0.1 - - [07/Aug/2022 22:38:06] \"\u001b[35m\u001b[1mPOST /predict HTTP/1.1\u001b[0m\" 500 -\n"
     ]
    }
   ],
   "source": [
    "if __name__==\"__main__\":\n",
    "    app.run(debug=False)"
   ]
  },
  {
   "cell_type": "code",
   "execution_count": 9,
   "metadata": {},
   "outputs": [],
   "source": [
    "@app.route('/')\n",
    "def home():\n",
    "    return render_template('home.html')"
   ]
  },
  {
   "cell_type": "code",
   "execution_count": 10,
   "metadata": {},
   "outputs": [],
   "source": [
    "@app.route('/prediction')\n",
    "def prediction():\n",
    "    return render_template('predict.html')"
   ]
  },
  {
   "cell_type": "code",
   "execution_count": 11,
   "metadata": {},
   "outputs": [],
   "source": [
    "@app.route('/predict', methods=['POST'])\n",
    "def predict():\n",
    "    if request.method == 'POST':\n",
    "        f = request.files['image']\n",
    "        basepath = os.path.dirname(__file__)\n",
    "        file_path = os.path.join( basepath, 'uploads', secure_filename(f.filename))\n",
    "        x = image.img_to_array(img)\n",
    "        x = np.expand_dims(x, axis=0)\n",
    "        plant = request.form['plant']\n",
    "        print(plant)\n",
    "        if(plant == \"vegetable\"):\n",
    "            preds = model_veg.predict_classes(x)\n",
    "            print(preds)\n",
    "            df = pd.read_excel('precautions - veg.xlsx')\n",
    "            print(df.iloc[preds[0]]['caution'])\n",
    "        else:\n",
    "            preds = model_fruit.predict_classes(x)\n",
    "            print(preds)\n",
    "            df = pd.read_excel('precautions - fruits.xlsx')\n",
    "            print(df.iloc[preds[0]]['caution'])\n",
    "    return df.iloc[preds[0]]['caution']            "
   ]
  },
  {
   "cell_type": "code",
   "execution_count": null,
   "metadata": {},
   "outputs": [
    {
     "name": "stdout",
     "output_type": "stream",
     "text": [
      " * Serving Flask app \"__main__\" (lazy loading)\n",
      " * Environment: production\n",
      "   WARNING: This is a development server. Do not use it in a production deployment.\n",
      "   Use a production WSGI server instead.\n",
      " * Debug mode: off\n"
     ]
    },
    {
     "name": "stderr",
     "output_type": "stream",
     "text": [
      " * Running on http://127.0.0.1:5000/ (Press CTRL+C to quit)\n",
      "127.0.0.1 - - [06/Aug/2022 23:11:49] \"\u001b[37mGET / HTTP/1.1\u001b[0m\" 200 -\n",
      "127.0.0.1 - - [06/Aug/2022 23:11:51] \"\u001b[37mGET / HTTP/1.1\u001b[0m\" 200 -\n",
      "127.0.0.1 - - [06/Aug/2022 23:11:51] \"\u001b[37mGET / HTTP/1.1\u001b[0m\" 200 -\n",
      "127.0.0.1 - - [06/Aug/2022 23:11:51] \"\u001b[37mGET / HTTP/1.1\u001b[0m\" 200 -\n",
      "127.0.0.1 - - [06/Aug/2022 23:11:52] \"\u001b[37mGET / HTTP/1.1\u001b[0m\" 200 -\n",
      "127.0.0.1 - - [06/Aug/2022 23:11:52] \"\u001b[37mGET / HTTP/1.1\u001b[0m\" 200 -\n",
      "127.0.0.1 - - [06/Aug/2022 23:11:52] \"\u001b[37mGET / HTTP/1.1\u001b[0m\" 200 -\n",
      "127.0.0.1 - - [06/Aug/2022 23:11:52] \"\u001b[37mGET / HTTP/1.1\u001b[0m\" 200 -\n",
      "127.0.0.1 - - [06/Aug/2022 23:11:52] \"\u001b[37mGET / HTTP/1.1\u001b[0m\" 200 -\n",
      "127.0.0.1 - - [06/Aug/2022 23:11:53] \"\u001b[37mGET / HTTP/1.1\u001b[0m\" 200 -\n",
      "127.0.0.1 - - [06/Aug/2022 23:12:12] \"\u001b[37mGET / HTTP/1.1\u001b[0m\" 200 -\n",
      "127.0.0.1 - - [06/Aug/2022 23:12:12] \"\u001b[37mGET / HTTP/1.1\u001b[0m\" 200 -\n",
      "127.0.0.1 - - [06/Aug/2022 23:12:14] \"\u001b[37mGET / HTTP/1.1\u001b[0m\" 200 -\n",
      "127.0.0.1 - - [06/Aug/2022 23:12:14] \"\u001b[37mGET / HTTP/1.1\u001b[0m\" 200 -\n",
      "127.0.0.1 - - [06/Aug/2022 23:12:14] \"\u001b[37mGET / HTTP/1.1\u001b[0m\" 200 -\n",
      "127.0.0.1 - - [06/Aug/2022 23:12:15] \"\u001b[37mGET / HTTP/1.1\u001b[0m\" 200 -\n",
      "127.0.0.1 - - [06/Aug/2022 23:12:15] \"\u001b[37mGET / HTTP/1.1\u001b[0m\" 200 -\n",
      "127.0.0.1 - - [06/Aug/2022 23:12:29] \"\u001b[37mGET / HTTP/1.1\u001b[0m\" 200 -\n",
      "127.0.0.1 - - [06/Aug/2022 23:12:30] \"\u001b[37mGET / HTTP/1.1\u001b[0m\" 200 -\n",
      "127.0.0.1 - - [06/Aug/2022 23:12:30] \"\u001b[37mGET / HTTP/1.1\u001b[0m\" 200 -\n",
      "127.0.0.1 - - [06/Aug/2022 23:12:30] \"\u001b[37mGET / HTTP/1.1\u001b[0m\" 200 -\n",
      "127.0.0.1 - - [06/Aug/2022 23:12:31] \"\u001b[37mGET / HTTP/1.1\u001b[0m\" 200 -\n"
     ]
    }
   ],
   "source": [
    "if __name__ == \"__main__\":\n",
    "    app.run(debug=False)\n"
   ]
  },
  {
   "cell_type": "code",
   "execution_count": null,
   "metadata": {},
   "outputs": [],
   "source": []
  }
 ],
 "metadata": {
  "kernelspec": {
   "display_name": "Python 3",
   "language": "python",
   "name": "python3"
  },
  "language_info": {
   "codemirror_mode": {
    "name": "ipython",
    "version": 3
   },
   "file_extension": ".py",
   "mimetype": "text/x-python",
   "name": "python",
   "nbconvert_exporter": "python",
   "pygments_lexer": "ipython3",
   "version": "3.8.3"
  }
 },
 "nbformat": 4,
 "nbformat_minor": 4
}
