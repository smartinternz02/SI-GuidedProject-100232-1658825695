{
 "cells": [
  {
   "cell_type": "code",
   "execution_count": 42,
   "metadata": {},
   "outputs": [],
   "source": [
    "from keras.preprocessing import image\n",
    "from tensorflow.keras.preprocessing.image import img_to_array\n",
    "from tensorflow.keras.models import load_model\n",
    "import numpy as np"
   ]
  },
  {
   "cell_type": "code",
   "execution_count": 43,
   "metadata": {},
   "outputs": [],
   "source": [
    "TRAINING_DIR='E:/IDS/Intenrship_IBM/Fertilizers/Dataset/fruit-dataset/fruit-dataset/train/'\n",
    "TEST_DIR = 'E:/IDS/Intenrship_IBM/Fertilizers/Dataset/fruit-dataset/fruit-dataset/test/'"
   ]
  },
  {
   "cell_type": "code",
   "execution_count": 44,
   "metadata": {},
   "outputs": [],
   "source": [
    "import random\n",
    "random.seed(123)"
   ]
  },
  {
   "cell_type": "code",
   "execution_count": 45,
   "metadata": {},
   "outputs": [],
   "source": [
    "from keras.preprocessing.image import ImageDataGenerator\n",
    "train_datagen = ImageDataGenerator(shear_range = 0.2,\n",
    "                                   zoom_range = 0.2,                                    \n",
    "                                   horizontal_flip=True, \n",
    "                                   rescale=1./255, \n",
    "                                   validation_split=0.2\n",
    ")"
   ]
  },
  {
   "cell_type": "code",
   "execution_count": 46,
   "metadata": {},
   "outputs": [
    {
     "name": "stdout",
     "output_type": "stream",
     "text": [
      "Found 5384 images belonging to 6 classes.\n",
      "Found 1686 images belonging to 6 classes.\n"
     ]
    }
   ],
   "source": [
    "x_train =train_datagen.flow_from_directory(TRAINING_DIR,\n",
    "                                           target_size=(128,128),\n",
    "                                           batch_size=32,\n",
    "                                           class_mode='categorical')\n",
    "x_test =train_datagen.flow_from_directory(TEST_DIR,\n",
    "                                           target_size=(128,128),\n",
    "                                           batch_size=32,\n",
    "                                           class_mode='categorical')"
   ]
  },
  {
   "cell_type": "code",
   "execution_count": 47,
   "metadata": {},
   "outputs": [],
   "source": [
    "model = load_model(\"fruit.h5\")"
   ]
  },
  {
   "cell_type": "code",
   "execution_count": 33,
   "metadata": {},
   "outputs": [],
   "source": [
    "img = image.load_img('E://IDS//Intenrship_IBM//Fertilizers//Dataset//fruit-dataset//fruit-dataset//test//Apple___healthy//00fca0da-2db3-481b-b98a-9b67bb7b105c___RS_HL 7708.jpg', target_size = (128,128))"
   ]
  },
  {
   "cell_type": "code",
   "execution_count": 48,
   "metadata": {},
   "outputs": [],
   "source": [
    "x = image.img_to_array(img)\n",
    "x = np.expand_dims(x, axis = 0)"
   ]
  },
  {
   "cell_type": "code",
   "execution_count": 49,
   "metadata": {},
   "outputs": [],
   "source": [
    "Pred = model.predict(x)"
   ]
  },
  {
   "cell_type": "code",
   "execution_count": 50,
   "metadata": {},
   "outputs": [
    {
     "name": "stdout",
     "output_type": "stream",
     "text": [
      "The Predicted Value of Healthy Apple is: 1\n"
     ]
    }
   ],
   "source": [
    "print(\"The Predicted Value of Healthy Apple is:\", np.argmax(Pred))"
   ]
  },
  {
   "cell_type": "code",
   "execution_count": 56,
   "metadata": {},
   "outputs": [
    {
     "name": "stdout",
     "output_type": "stream",
     "text": [
      "The Predicted Value of Peach___Bacterial_spot is: 4\n"
     ]
    }
   ],
   "source": [
    "img = image.load_img('E://IDS//Intenrship_IBM//Fertilizers//Dataset//fruit-dataset//fruit-dataset//test//Peach___Bacterial_spot//0a71ba91-8bde-4a91-84a9-bf950488f718___Rutg._Bact.S 2121.jpg', target_size = (128,128))\n",
    "x = image.img_to_array(img)\n",
    "x = np.expand_dims(x, axis = 0)\n",
    "Pred = model.predict(x)\n",
    "print(\"The Predicted Value of Peach___Bacterial_spot is:\", np.argmax(Pred))"
   ]
  },
  {
   "cell_type": "code",
   "execution_count": 67,
   "metadata": {},
   "outputs": [
    {
     "name": "stdout",
     "output_type": "stream",
     "text": [
      "The Predicted Value ofApple___Black_rot is: 0\n"
     ]
    }
   ],
   "source": [
    "img = image.load_img('E://IDS//Intenrship_IBM//Fertilizers//Dataset//fruit-dataset//fruit-dataset//test//Apple___Black_rot//0b8dabb7-5f1b-4fdc-b3fa-30b289707b90___JR_FrgE.S 3047.jpg', target_size = (128,128))\n",
    "x = image.img_to_array(img)\n",
    "x = np.expand_dims(x, axis = 0)\n",
    "Pred = model.predict(x)\n",
    "print(\"The Predicted Value ofApple___Black_rot is:\", np.argmax(Pred))"
   ]
  },
  {
   "cell_type": "code",
   "execution_count": 54,
   "metadata": {},
   "outputs": [],
   "source": [
    "model_veg = load_model(\"Vegetable.h5\")"
   ]
  },
  {
   "cell_type": "code",
   "execution_count": 60,
   "metadata": {},
   "outputs": [
    {
     "name": "stdout",
     "output_type": "stream",
     "text": [
      "The Predicted Value of Potato___Early_blight is: 2\n"
     ]
    }
   ],
   "source": [
    "img = image.load_img('E://IDS//Intenrship_IBM//Fertilizers//Dataset//Veg-dataset//Veg-dataset//test_set\\Potato___Early_blight//ba96aab6-adb5-4021-b6ad-3305f50aec12___RS_Early.B 7317.jpg', target_size = (128,128))\n",
    "x = image.img_to_array(img)\n",
    "x = np.expand_dims(x, axis = 0)\n",
    "Pred = model_veg.predict(x)\n",
    "print(\"The Predicted Value of Potato___Early_blight is:\", np.argmax(Pred))"
   ]
  },
  {
   "cell_type": "code",
   "execution_count": null,
   "metadata": {},
   "outputs": [],
   "source": []
  }
 ],
 "metadata": {
  "kernelspec": {
   "display_name": "Python 3",
   "language": "python",
   "name": "python3"
  },
  "language_info": {
   "codemirror_mode": {
    "name": "ipython",
    "version": 3
   },
   "file_extension": ".py",
   "mimetype": "text/x-python",
   "name": "python",
   "nbconvert_exporter": "python",
   "pygments_lexer": "ipython3",
   "version": "3.8.3"
  }
 },
 "nbformat": 4,
 "nbformat_minor": 4
}
