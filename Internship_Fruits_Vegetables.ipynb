{
 "cells": [
  {
   "cell_type": "code",
   "execution_count": 1,
   "metadata": {},
   "outputs": [],
   "source": [
    "import numpy as np\n",
    "import pickle\n",
    "import cv2\n",
    "from os import listdir\n",
    "from sklearn.preprocessing import LabelBinarizer\n",
    "from keras.models import Sequential\n",
    "#from keras.layers.normalization import BatchNormalization\n",
    "from keras.layers.convolutional import Conv2D\n",
    "from keras.layers.convolutional import MaxPooling2D\n",
    "from keras.layers.core import Activation, Flatten, Dropout, Dense\n",
    "from keras import backend as K\n",
    "from keras.preprocessing.image import ImageDataGenerator\n",
    "\n",
    "from keras.preprocessing import image\n",
    "from keras.preprocessing.image import img_to_array\n",
    "from sklearn.preprocessing import MultiLabelBinarizer\n",
    "from sklearn.model_selection import train_test_split\n",
    "import matplotlib.pyplot as plt\n",
    "import tensorflow"
   ]
  },
  {
   "cell_type": "code",
   "execution_count": 2,
   "metadata": {},
   "outputs": [],
   "source": [
    "import random\n",
    "random.seed(123)"
   ]
  },
  {
   "cell_type": "code",
   "execution_count": 3,
   "metadata": {},
   "outputs": [],
   "source": [
    "TRAINING_DIR='E:/IDS/Intenrship_IBM/Fertilizers/Dataset/fruit-dataset/fruit-dataset/train/'\n",
    "TEST_DIR = 'E:/IDS/Intenrship_IBM/Fertilizers/Dataset/fruit-dataset/fruit-dataset/test/'"
   ]
  },
  {
   "cell_type": "code",
   "execution_count": 4,
   "metadata": {},
   "outputs": [],
   "source": [
    "from keras.preprocessing.image import ImageDataGenerator\n",
    "train_datagen = ImageDataGenerator(shear_range = 0.2,\n",
    "                                   zoom_range = 0.2,                                    \n",
    "                                   horizontal_flip=True, \n",
    "                                   rescale=1./255, \n",
    "                                   validation_split=0.2\n",
    ")"
   ]
  },
  {
   "cell_type": "code",
   "execution_count": 5,
   "metadata": {},
   "outputs": [
    {
     "name": "stdout",
     "output_type": "stream",
     "text": [
      "Found 5384 images belonging to 6 classes.\n",
      "Found 1686 images belonging to 6 classes.\n"
     ]
    }
   ],
   "source": [
    "x_train =train_datagen.flow_from_directory(TRAINING_DIR,\n",
    "                                           target_size=(128,128),\n",
    "                                           batch_size=32,\n",
    "                                           class_mode='categorical')\n",
    "x_test =train_datagen.flow_from_directory(TEST_DIR,\n",
    "                                           target_size=(128,128),\n",
    "                                           batch_size=32,\n",
    "                                           class_mode='categorical')\n"
   ]
  },
  {
   "cell_type": "code",
   "execution_count": 6,
   "metadata": {},
   "outputs": [],
   "source": [
    "from keras.models import Sequential\n",
    "from keras.layers import Dense\n",
    "from keras.layers import Convolution2D\n",
    "from keras.layers import MaxPooling2D\n",
    "from keras.layers import Flatten"
   ]
  },
  {
   "cell_type": "code",
   "execution_count": null,
   "metadata": {},
   "outputs": [],
   "source": []
  },
  {
   "cell_type": "code",
   "execution_count": 7,
   "metadata": {},
   "outputs": [],
   "source": [
    "from keras import backend as K\n",
    "K.clear_session()\n",
    "model = Sequential()\n",
    "model.add(Convolution2D(32, (3,3), activation='relu', input_shape=(128,128,3)))\n",
    "model.add(MaxPooling2D(2, 2))\n",
    "\n",
    "model.add(Convolution2D(32, (3,3), activation='relu', input_shape=(128,128,3)))\n",
    "model.add(MaxPooling2D(2, 2))\n",
    "\n",
    "model.add(Flatten())\n",
    "model.add(Dense(40,  activation='relu'))\n",
    "model.add(Dense(20, activation='relu'))\n",
    "model.add(Dense(6, activation='softmax'))"
   ]
  },
  {
   "cell_type": "code",
   "execution_count": 8,
   "metadata": {},
   "outputs": [
    {
     "name": "stdout",
     "output_type": "stream",
     "text": [
      "Model: \"sequential\"\n",
      "_________________________________________________________________\n",
      " Layer (type)                Output Shape              Param #   \n",
      "=================================================================\n",
      " conv2d (Conv2D)             (None, 126, 126, 32)      896       \n",
      "                                                                 \n",
      " max_pooling2d (MaxPooling2D  (None, 63, 63, 32)       0         \n",
      " )                                                               \n",
      "                                                                 \n",
      " conv2d_1 (Conv2D)           (None, 61, 61, 32)        9248      \n",
      "                                                                 \n",
      " max_pooling2d_1 (MaxPooling  (None, 30, 30, 32)       0         \n",
      " 2D)                                                             \n",
      "                                                                 \n",
      " flatten (Flatten)           (None, 28800)             0         \n",
      "                                                                 \n",
      " dense (Dense)               (None, 40)                1152040   \n",
      "                                                                 \n",
      " dense_1 (Dense)             (None, 20)                820       \n",
      "                                                                 \n",
      " dense_2 (Dense)             (None, 6)                 126       \n",
      "                                                                 \n",
      "=================================================================\n",
      "Total params: 1,163,130\n",
      "Trainable params: 1,163,130\n",
      "Non-trainable params: 0\n",
      "_________________________________________________________________\n"
     ]
    }
   ],
   "source": [
    "model.summary()"
   ]
  },
  {
   "cell_type": "code",
   "execution_count": 9,
   "metadata": {},
   "outputs": [],
   "source": [
    "model.compile(loss='categorical_crossentropy', optimizer = 'adam', metrics=['accuracy'])"
   ]
  },
  {
   "cell_type": "code",
   "execution_count": 10,
   "metadata": {},
   "outputs": [
    {
     "name": "stderr",
     "output_type": "stream",
     "text": [
      "<ipython-input-10-08b1e90848e3>:1: UserWarning: `Model.fit_generator` is deprecated and will be removed in a future version. Please use `Model.fit`, which supports generators.\n",
      "  CNN_model=model.fit_generator(x_train,steps_per_epoch = 89, epochs=30,validation_data=x_test, validation_steps = 27).history\n"
     ]
    },
    {
     "name": "stdout",
     "output_type": "stream",
     "text": [
      "Epoch 1/30\n",
      "89/89 [==============================] - 65s 637ms/step - loss: 1.0910 - accuracy: 0.5815 - val_loss: 0.5214 - val_accuracy: 0.8241\n",
      "Epoch 2/30\n",
      "89/89 [==============================] - 46s 515ms/step - loss: 0.4352 - accuracy: 0.8569 - val_loss: 0.3922 - val_accuracy: 0.8715\n",
      "Epoch 3/30\n",
      "89/89 [==============================] - 55s 622ms/step - loss: 0.3306 - accuracy: 0.8856 - val_loss: 0.3572 - val_accuracy: 0.8866\n",
      "Epoch 4/30\n",
      "89/89 [==============================] - 48s 541ms/step - loss: 0.2869 - accuracy: 0.9010 - val_loss: 0.2542 - val_accuracy: 0.9167\n",
      "Epoch 5/30\n",
      "89/89 [==============================] - 57s 646ms/step - loss: 0.2266 - accuracy: 0.9196 - val_loss: 0.2449 - val_accuracy: 0.9155\n",
      "Epoch 6/30\n",
      "89/89 [==============================] - 49s 554ms/step - loss: 0.2137 - accuracy: 0.9324 - val_loss: 0.2182 - val_accuracy: 0.9259\n",
      "Epoch 7/30\n",
      "89/89 [==============================] - 50s 567ms/step - loss: 0.2182 - accuracy: 0.9270 - val_loss: 0.1795 - val_accuracy: 0.9271\n",
      "Epoch 8/30\n",
      "89/89 [==============================] - 53s 593ms/step - loss: 0.2026 - accuracy: 0.9294 - val_loss: 0.2008 - val_accuracy: 0.9398\n",
      "Epoch 9/30\n",
      "89/89 [==============================] - 48s 544ms/step - loss: 0.1552 - accuracy: 0.9491 - val_loss: 0.1941 - val_accuracy: 0.9421\n",
      "Epoch 10/30\n",
      "89/89 [==============================] - 57s 641ms/step - loss: 0.1873 - accuracy: 0.9322 - val_loss: 0.1892 - val_accuracy: 0.9294\n",
      "Epoch 11/30\n",
      "89/89 [==============================] - 50s 564ms/step - loss: 0.1701 - accuracy: 0.9403 - val_loss: 0.1268 - val_accuracy: 0.9583\n",
      "Epoch 12/30\n",
      "89/89 [==============================] - 54s 608ms/step - loss: 0.1481 - accuracy: 0.9494 - val_loss: 0.1843 - val_accuracy: 0.9340\n",
      "Epoch 13/30\n",
      "89/89 [==============================] - 55s 623ms/step - loss: 0.1458 - accuracy: 0.9477 - val_loss: 0.1470 - val_accuracy: 0.9444\n",
      "Epoch 14/30\n",
      "89/89 [==============================] - 59s 667ms/step - loss: 0.1026 - accuracy: 0.9660 - val_loss: 0.1457 - val_accuracy: 0.9595\n",
      "Epoch 15/30\n",
      "89/89 [==============================] - 55s 616ms/step - loss: 0.1595 - accuracy: 0.9400 - val_loss: 0.1440 - val_accuracy: 0.9537\n",
      "Epoch 16/30\n",
      "89/89 [==============================] - 49s 546ms/step - loss: 0.1011 - accuracy: 0.9671 - val_loss: 0.1101 - val_accuracy: 0.9606\n",
      "Epoch 17/30\n",
      "89/89 [==============================] - 50s 556ms/step - loss: 0.1191 - accuracy: 0.9586 - val_loss: 0.1650 - val_accuracy: 0.9398\n",
      "Epoch 18/30\n",
      "89/89 [==============================] - 44s 493ms/step - loss: 0.1442 - accuracy: 0.9518 - val_loss: 0.1041 - val_accuracy: 0.9699\n",
      "Epoch 19/30\n",
      "89/89 [==============================] - 51s 577ms/step - loss: 0.0851 - accuracy: 0.9724 - val_loss: 0.1076 - val_accuracy: 0.9688\n",
      "Epoch 20/30\n",
      "89/89 [==============================] - 45s 502ms/step - loss: 0.0998 - accuracy: 0.9642 - val_loss: 0.1721 - val_accuracy: 0.9595\n",
      "Epoch 21/30\n",
      "89/89 [==============================] - 48s 543ms/step - loss: 0.0822 - accuracy: 0.9742 - val_loss: 0.1099 - val_accuracy: 0.9641\n",
      "Epoch 22/30\n",
      "89/89 [==============================] - 51s 574ms/step - loss: 0.0926 - accuracy: 0.9659 - val_loss: 0.1263 - val_accuracy: 0.9606\n",
      "Epoch 23/30\n",
      "89/89 [==============================] - 44s 492ms/step - loss: 0.0762 - accuracy: 0.9738 - val_loss: 0.1217 - val_accuracy: 0.9549\n",
      "Epoch 24/30\n",
      "89/89 [==============================] - 51s 568ms/step - loss: 0.0790 - accuracy: 0.9716 - val_loss: 0.0675 - val_accuracy: 0.9734\n",
      "Epoch 25/30\n",
      "89/89 [==============================] - 45s 504ms/step - loss: 0.0825 - accuracy: 0.9698 - val_loss: 0.1160 - val_accuracy: 0.9641\n",
      "Epoch 26/30\n",
      "89/89 [==============================] - 46s 520ms/step - loss: 0.0722 - accuracy: 0.9744 - val_loss: 0.1067 - val_accuracy: 0.9653\n",
      "Epoch 27/30\n",
      "89/89 [==============================] - 49s 549ms/step - loss: 0.0724 - accuracy: 0.9749 - val_loss: 0.0998 - val_accuracy: 0.9664\n",
      "Epoch 28/30\n",
      "89/89 [==============================] - 43s 487ms/step - loss: 0.0666 - accuracy: 0.9759 - val_loss: 0.1056 - val_accuracy: 0.9699\n",
      "Epoch 29/30\n",
      "89/89 [==============================] - 52s 581ms/step - loss: 0.0720 - accuracy: 0.9761 - val_loss: 0.1029 - val_accuracy: 0.9688\n",
      "Epoch 30/30\n",
      "89/89 [==============================] - 50s 561ms/step - loss: 0.0801 - accuracy: 0.9685 - val_loss: 0.0705 - val_accuracy: 0.9803\n"
     ]
    }
   ],
   "source": [
    "CNN_model=model.fit_generator(x_train,steps_per_epoch = 89, epochs=30,validation_data=x_test, validation_steps = 27).history"
   ]
  },
  {
   "cell_type": "code",
   "execution_count": 11,
   "metadata": {},
   "outputs": [],
   "source": [
    "model.save(\"fruit.h5\")"
   ]
  },
  {
   "cell_type": "code",
   "execution_count": 13,
   "metadata": {},
   "outputs": [],
   "source": [
    "TRAINING_DIR='E:/IDS/Intenrship_IBM/Fertilizers/Dataset/Veg-dataset/Veg-dataset/train_set/'\n",
    "TEST_DIR = 'E:/IDS/Intenrship_IBM/Fertilizers/Dataset/Veg-dataset/Veg-dataset/test_set/'"
   ]
  },
  {
   "cell_type": "code",
   "execution_count": 14,
   "metadata": {},
   "outputs": [],
   "source": [
    "from keras.preprocessing.image import ImageDataGenerator\n",
    "train_datagen = ImageDataGenerator(shear_range = 0.2,\n",
    "                                   zoom_range = 0.2,                                    \n",
    "                                   horizontal_flip=True, \n",
    "                                   rescale=1./255, \n",
    "                                   validation_split=0.2\n",
    ")"
   ]
  },
  {
   "cell_type": "code",
   "execution_count": 15,
   "metadata": {},
   "outputs": [
    {
     "name": "stdout",
     "output_type": "stream",
     "text": [
      "Found 11386 images belonging to 9 classes.\n",
      "Found 3416 images belonging to 9 classes.\n"
     ]
    }
   ],
   "source": [
    "x_train =train_datagen.flow_from_directory(TRAINING_DIR,\n",
    "                                           target_size=(128,128),\n",
    "                                           batch_size=32,\n",
    "                                           class_mode='categorical')\n",
    "x_test =train_datagen.flow_from_directory(TEST_DIR,\n",
    "                                           target_size=(128,128),\n",
    "                                           batch_size=32,\n",
    "                                           class_mode='categorical')\n"
   ]
  },
  {
   "cell_type": "code",
   "execution_count": 16,
   "metadata": {},
   "outputs": [],
   "source": [
    "from keras import backend as K\n",
    "K.clear_session()\n",
    "model = Sequential()\n",
    "model.add(Convolution2D(32, (3,3), activation='relu', input_shape=(128,128,3)))\n",
    "model.add(MaxPooling2D(2, 2))\n",
    "\n",
    "model.add(Convolution2D(32, (3,3), activation='relu', input_shape=(128,128,3)))\n",
    "model.add(MaxPooling2D(2, 2))\n",
    "\n",
    "model.add(Flatten())\n",
    "model.add(Dense(40,  activation='relu'))\n",
    "model.add(Dense(20, activation='relu'))\n",
    "model.add(Dense(9, activation='softmax'))"
   ]
  },
  {
   "cell_type": "code",
   "execution_count": 17,
   "metadata": {},
   "outputs": [
    {
     "name": "stdout",
     "output_type": "stream",
     "text": [
      "Model: \"sequential\"\n",
      "_________________________________________________________________\n",
      " Layer (type)                Output Shape              Param #   \n",
      "=================================================================\n",
      " conv2d (Conv2D)             (None, 126, 126, 32)      896       \n",
      "                                                                 \n",
      " max_pooling2d (MaxPooling2D  (None, 63, 63, 32)       0         \n",
      " )                                                               \n",
      "                                                                 \n",
      " conv2d_1 (Conv2D)           (None, 61, 61, 32)        9248      \n",
      "                                                                 \n",
      " max_pooling2d_1 (MaxPooling  (None, 30, 30, 32)       0         \n",
      " 2D)                                                             \n",
      "                                                                 \n",
      " flatten (Flatten)           (None, 28800)             0         \n",
      "                                                                 \n",
      " dense (Dense)               (None, 40)                1152040   \n",
      "                                                                 \n",
      " dense_1 (Dense)             (None, 20)                820       \n",
      "                                                                 \n",
      " dense_2 (Dense)             (None, 9)                 189       \n",
      "                                                                 \n",
      "=================================================================\n",
      "Total params: 1,163,193\n",
      "Trainable params: 1,163,193\n",
      "Non-trainable params: 0\n",
      "_________________________________________________________________\n"
     ]
    }
   ],
   "source": [
    "model.summary()"
   ]
  },
  {
   "cell_type": "code",
   "execution_count": 18,
   "metadata": {},
   "outputs": [],
   "source": [
    "model.compile(loss='categorical_crossentropy', optimizer = 'adam', metrics=['accuracy'])"
   ]
  },
  {
   "cell_type": "code",
   "execution_count": 19,
   "metadata": {},
   "outputs": [
    {
     "name": "stderr",
     "output_type": "stream",
     "text": [
      "<ipython-input-19-5d87cbc2b467>:1: UserWarning: `Model.fit_generator` is deprecated and will be removed in a future version. Please use `Model.fit`, which supports generators.\n",
      "  CNN_model=model.fit_generator(x_train,steps_per_epoch = 89, epochs=50,validation_data=x_test, validation_steps = 27).history\n"
     ]
    },
    {
     "name": "stdout",
     "output_type": "stream",
     "text": [
      "Epoch 1/50\n",
      "89/89 [==============================] - 56s 627ms/step - loss: 2.0063 - accuracy: 0.2428 - val_loss: 1.8083 - val_accuracy: 0.3056\n",
      "Epoch 2/50\n",
      "89/89 [==============================] - 59s 655ms/step - loss: 1.6576 - accuracy: 0.4101 - val_loss: 1.5451 - val_accuracy: 0.4444\n",
      "Epoch 3/50\n",
      "89/89 [==============================] - 54s 612ms/step - loss: 1.3133 - accuracy: 0.5442 - val_loss: 1.1186 - val_accuracy: 0.6331\n",
      "Epoch 4/50\n",
      "89/89 [==============================] - 54s 603ms/step - loss: 1.0712 - accuracy: 0.6133 - val_loss: 0.9326 - val_accuracy: 0.6829\n",
      "Epoch 5/50\n",
      "89/89 [==============================] - 65s 730ms/step - loss: 0.8729 - accuracy: 0.6959 - val_loss: 0.8134 - val_accuracy: 0.7164\n",
      "Epoch 6/50\n",
      "89/89 [==============================] - 54s 613ms/step - loss: 0.7836 - accuracy: 0.7199 - val_loss: 0.6638 - val_accuracy: 0.7766\n",
      "Epoch 7/50\n",
      "89/89 [==============================] - 61s 684ms/step - loss: 0.6974 - accuracy: 0.7619 - val_loss: 0.6601 - val_accuracy: 0.7639\n",
      "Epoch 8/50\n",
      "89/89 [==============================] - 60s 675ms/step - loss: 0.6380 - accuracy: 0.7742 - val_loss: 0.6123 - val_accuracy: 0.7812\n",
      "Epoch 9/50\n",
      "89/89 [==============================] - 48s 539ms/step - loss: 0.6256 - accuracy: 0.7784 - val_loss: 0.6450 - val_accuracy: 0.7650\n",
      "Epoch 10/50\n",
      "89/89 [==============================] - 55s 617ms/step - loss: 0.5250 - accuracy: 0.8125 - val_loss: 0.4755 - val_accuracy: 0.8333\n",
      "Epoch 11/50\n",
      "89/89 [==============================] - 48s 535ms/step - loss: 0.5289 - accuracy: 0.8139 - val_loss: 0.5369 - val_accuracy: 0.8194\n",
      "Epoch 12/50\n",
      "89/89 [==============================] - 52s 586ms/step - loss: 0.4792 - accuracy: 0.8283 - val_loss: 0.4783 - val_accuracy: 0.8391\n",
      "Epoch 13/50\n",
      "89/89 [==============================] - 49s 551ms/step - loss: 0.4670 - accuracy: 0.8371 - val_loss: 0.4360 - val_accuracy: 0.8530\n",
      "Epoch 14/50\n",
      "89/89 [==============================] - 53s 593ms/step - loss: 0.4815 - accuracy: 0.8315 - val_loss: 0.5119 - val_accuracy: 0.8252\n",
      "Epoch 15/50\n",
      "89/89 [==============================] - 54s 602ms/step - loss: 0.3988 - accuracy: 0.8624 - val_loss: 0.4255 - val_accuracy: 0.8565\n",
      "Epoch 16/50\n",
      "89/89 [==============================] - 49s 547ms/step - loss: 0.3858 - accuracy: 0.8652 - val_loss: 0.5468 - val_accuracy: 0.8160\n",
      "Epoch 17/50\n",
      "89/89 [==============================] - 54s 606ms/step - loss: 0.3826 - accuracy: 0.8638 - val_loss: 0.4635 - val_accuracy: 0.8426\n",
      "Epoch 18/50\n",
      "89/89 [==============================] - 48s 543ms/step - loss: 0.3699 - accuracy: 0.8739 - val_loss: 0.3524 - val_accuracy: 0.8947\n",
      "Epoch 19/50\n",
      "89/89 [==============================] - 54s 611ms/step - loss: 0.3486 - accuracy: 0.8848 - val_loss: 0.3368 - val_accuracy: 0.8900\n",
      "Epoch 20/50\n",
      "89/89 [==============================] - 50s 562ms/step - loss: 0.3594 - accuracy: 0.8746 - val_loss: 0.3530 - val_accuracy: 0.8623\n",
      "Epoch 21/50\n",
      "89/89 [==============================] - 51s 572ms/step - loss: 0.3280 - accuracy: 0.8901 - val_loss: 0.3046 - val_accuracy: 0.8947\n",
      "Epoch 22/50\n",
      "89/89 [==============================] - 54s 605ms/step - loss: 0.3256 - accuracy: 0.8824 - val_loss: 0.2633 - val_accuracy: 0.9097\n",
      "Epoch 23/50\n",
      "89/89 [==============================] - 49s 547ms/step - loss: 0.3203 - accuracy: 0.8922 - val_loss: 0.2473 - val_accuracy: 0.9213\n",
      "Epoch 24/50\n",
      "89/89 [==============================] - 56s 627ms/step - loss: 0.2737 - accuracy: 0.9052 - val_loss: 0.4193 - val_accuracy: 0.8507\n",
      "Epoch 25/50\n",
      "89/89 [==============================] - 52s 588ms/step - loss: 0.3203 - accuracy: 0.8901 - val_loss: 0.2074 - val_accuracy: 0.9236\n",
      "Epoch 26/50\n",
      "89/89 [==============================] - 58s 650ms/step - loss: 0.2830 - accuracy: 0.8989 - val_loss: 0.2203 - val_accuracy: 0.9306\n",
      "Epoch 27/50\n",
      "89/89 [==============================] - 51s 567ms/step - loss: 0.2379 - accuracy: 0.9173 - val_loss: 0.3529 - val_accuracy: 0.8889\n",
      "Epoch 28/50\n",
      "89/89 [==============================] - 57s 645ms/step - loss: 0.3301 - accuracy: 0.8821 - val_loss: 0.2949 - val_accuracy: 0.9005\n",
      "Epoch 29/50\n",
      "89/89 [==============================] - 55s 621ms/step - loss: 0.2521 - accuracy: 0.9126 - val_loss: 0.2848 - val_accuracy: 0.8970\n",
      "Epoch 30/50\n",
      "89/89 [==============================] - 59s 658ms/step - loss: 0.2395 - accuracy: 0.9161 - val_loss: 0.2059 - val_accuracy: 0.9329\n",
      "Epoch 31/50\n",
      "89/89 [==============================] - 57s 635ms/step - loss: 0.2414 - accuracy: 0.9185 - val_loss: 0.2177 - val_accuracy: 0.9167\n",
      "Epoch 32/50\n",
      "89/89 [==============================] - 56s 626ms/step - loss: 0.2278 - accuracy: 0.9222 - val_loss: 0.1688 - val_accuracy: 0.9479\n",
      "Epoch 33/50\n",
      "89/89 [==============================] - 61s 691ms/step - loss: 0.2896 - accuracy: 0.9006 - val_loss: 0.2315 - val_accuracy: 0.9271\n",
      "Epoch 34/50\n",
      "89/89 [==============================] - 51s 579ms/step - loss: 0.2376 - accuracy: 0.9120 - val_loss: 0.2274 - val_accuracy: 0.9190\n",
      "Epoch 35/50\n",
      "89/89 [==============================] - 57s 637ms/step - loss: 0.2360 - accuracy: 0.9164 - val_loss: 0.1717 - val_accuracy: 0.9352\n",
      "Epoch 36/50\n",
      "89/89 [==============================] - 51s 574ms/step - loss: 0.2409 - accuracy: 0.9191 - val_loss: 0.2647 - val_accuracy: 0.9097\n",
      "Epoch 37/50\n",
      "89/89 [==============================] - 58s 653ms/step - loss: 0.2025 - accuracy: 0.9340 - val_loss: 0.1979 - val_accuracy: 0.9387\n",
      "Epoch 38/50\n",
      "89/89 [==============================] - 49s 547ms/step - loss: 0.1993 - accuracy: 0.9305 - val_loss: 0.2283 - val_accuracy: 0.9271\n",
      "Epoch 39/50\n",
      "89/89 [==============================] - 56s 634ms/step - loss: 0.2064 - accuracy: 0.9315 - val_loss: 0.2025 - val_accuracy: 0.9329\n",
      "Epoch 40/50\n",
      "89/89 [==============================] - 53s 600ms/step - loss: 0.1864 - accuracy: 0.9367 - val_loss: 0.2339 - val_accuracy: 0.9086\n",
      "Epoch 41/50\n",
      "89/89 [==============================] - 52s 583ms/step - loss: 0.2125 - accuracy: 0.9270 - val_loss: 0.1582 - val_accuracy: 0.9410\n",
      "Epoch 42/50\n",
      "89/89 [==============================] - 54s 602ms/step - loss: 0.2130 - accuracy: 0.9252 - val_loss: 0.1544 - val_accuracy: 0.9502\n",
      "Epoch 43/50\n",
      "89/89 [==============================] - 52s 582ms/step - loss: 0.1924 - accuracy: 0.9409 - val_loss: 0.1732 - val_accuracy: 0.9387\n",
      "Epoch 44/50\n",
      "89/89 [==============================] - 63s 712ms/step - loss: 0.2031 - accuracy: 0.9319 - val_loss: 0.3041 - val_accuracy: 0.8935\n",
      "Epoch 45/50\n",
      "89/89 [==============================] - 67s 749ms/step - loss: 0.1678 - accuracy: 0.9389 - val_loss: 0.1363 - val_accuracy: 0.9560\n",
      "Epoch 46/50\n",
      "89/89 [==============================] - 63s 711ms/step - loss: 0.1981 - accuracy: 0.9258 - val_loss: 0.1677 - val_accuracy: 0.9387\n",
      "Epoch 47/50\n",
      "89/89 [==============================] - 68s 758ms/step - loss: 0.1731 - accuracy: 0.9400 - val_loss: 0.1759 - val_accuracy: 0.9444\n",
      "Epoch 48/50\n",
      "89/89 [==============================] - 58s 654ms/step - loss: 0.2005 - accuracy: 0.9305 - val_loss: 0.2147 - val_accuracy: 0.9190\n",
      "Epoch 49/50\n",
      "89/89 [==============================] - 77s 857ms/step - loss: 0.1744 - accuracy: 0.9388 - val_loss: 0.1765 - val_accuracy: 0.9363\n",
      "Epoch 50/50\n",
      "89/89 [==============================] - 51s 565ms/step - loss: 0.1627 - accuracy: 0.9466 - val_loss: 0.1885 - val_accuracy: 0.9398\n"
     ]
    }
   ],
   "source": [
    "CNN_model=model.fit_generator(x_train,steps_per_epoch = 89, epochs=50,validation_data=x_test, validation_steps = 27).history"
   ]
  },
  {
   "cell_type": "code",
   "execution_count": 20,
   "metadata": {},
   "outputs": [],
   "source": [
    "model.save(\"Vegetable.h5\")"
   ]
  },
  {
   "cell_type": "code",
   "execution_count": null,
   "metadata": {},
   "outputs": [],
   "source": []
  },
  {
   "cell_type": "code",
   "execution_count": null,
   "metadata": {},
   "outputs": [],
   "source": []
  }
 ],
 "metadata": {
  "kernelspec": {
   "display_name": "Python 3",
   "language": "python",
   "name": "python3"
  },
  "language_info": {
   "codemirror_mode": {
    "name": "ipython",
    "version": 3
   },
   "file_extension": ".py",
   "mimetype": "text/x-python",
   "name": "python",
   "nbconvert_exporter": "python",
   "pygments_lexer": "ipython3",
   "version": "3.8.3"
  }
 },
 "nbformat": 4,
 "nbformat_minor": 4
}
